{
 "cells": [
  {
   "cell_type": "code",
   "execution_count": 63,
   "metadata": {},
   "outputs": [],
   "source": [
    "from sklearn.model_selection import train_test_split\n",
    "from sklearn.tree import DecisionTreeClassifier\n",
    "from sklearn.tree import export_graphviz\n",
    "import pydotplus\n",
    "import pandas as pd"
   ]
  },
  {
   "cell_type": "code",
   "execution_count": 66,
   "metadata": {
    "scrolled": false
   },
   "outputs": [
    {
     "data": {
      "text/plain": [
       "True"
      ]
     },
     "execution_count": 66,
     "metadata": {},
     "output_type": "execute_result"
    }
   ],
   "source": [
    "df = pd.read_csv('data.csv')  \n",
    "\n",
    "feature_names = ['height','weight','shape','appearance','salary','house','car','girlFriend','friend','education','emotion','behavior','cellphone','sick','brain','selfConfidence','interest','GPA','sexmate','responsibility']\n",
    "x = df[feature_names].values\n",
    "\n",
    "for i in range(len(x)):\n",
    "    x[i][2] =  int(x[i][2] == 'slim')\n",
    "    x[i][3] =  int(x[i][3] == 'handsome')\n",
    "    x[i][8] =  int(x[i][8] == 'many')\n",
    "    x[i][9] =  int(x[i][9] == 'Master' or x[i][9] == 'Doctor')  \n",
    "    x[i][10] =  int(x[i][10] == 'optimism')\n",
    "    x[i][11] =  int(x[i][11] == 'positive')\n",
    "    x[i][12] =  int(x[i][12] == 'apple')\n",
    "    x[i][14] =  int(x[i][14] == 'smart')\n",
    "    \n",
    "label = df[['label']].values\n",
    "y = [int(label[i][0]=='winner') for i in range(len(label))]\n",
    "\n",
    "tree = DecisionTreeClassifier(criterion = 'entropy',max_depth=4)\n",
    "x_train,x_test,y_train,y_test = train_test_split(x,y,test_size=0.3,random_state=0)\n",
    "\n",
    "tree.fit(x_train,y_train)\n",
    "\n",
    "#print(tree.predict(x_test))\n",
    "#print(y_test)\n",
    "\n",
    "dot_data = export_graphviz(tree,out_file=None)\n",
    "graph=pydotplus.graph_from_dot_data(dot_data)\n",
    "graph.write_pdf('result.pdf')"
   ]
  },
  {
   "cell_type": "code",
   "execution_count": null,
   "metadata": {},
   "outputs": [],
   "source": []
  }
 ],
 "metadata": {
  "kernelspec": {
   "display_name": "Python 3",
   "language": "python",
   "name": "python3"
  },
  "language_info": {
   "codemirror_mode": {
    "name": "ipython",
    "version": 3
   },
   "file_extension": ".py",
   "mimetype": "text/x-python",
   "name": "python",
   "nbconvert_exporter": "python",
   "pygments_lexer": "ipython3",
   "version": "3.7.4"
  }
 },
 "nbformat": 4,
 "nbformat_minor": 2
}
